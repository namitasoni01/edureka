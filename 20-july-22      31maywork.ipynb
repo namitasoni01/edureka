{
 "cells": [
  {
   "cell_type": "code",
   "execution_count": 1,
   "id": "22d97344",
   "metadata": {},
   "outputs": [
    {
     "name": "stdout",
     "output_type": "stream",
     "text": [
      "[1, 2, 3, 4, 5, 6, 7, 8, 9]\n",
      "[1, 2, 3, 4, 5, 6, 7, 8]\n",
      "[1, 2, 3, 5, 6, 7, 8]\n",
      "[1, 2, 3, 5, 7, 8]\n"
     ]
    }
   ],
   "source": [
    "##pop\n",
    "##pop()-by default pop removes the last element,by giving a index of asingle value we can \n",
    "#remove other element too,multiple element cannot be removed\n",
    "\n",
    "ls = [1,2,3,4,5,6,7,8,9]\n",
    "\n",
    "print(ls)\n",
    "\n",
    "ls.pop()\n",
    "print(ls)\n",
    "\n",
    "ls.pop(3)\n",
    "print(ls)\n",
    "\n",
    "ls.pop(-3)\n",
    "print(ls)"
   ]
  },
  {
   "cell_type": "code",
   "execution_count": 5,
   "id": "a5091290",
   "metadata": {},
   "outputs": [
    {
     "data": {
      "text/plain": [
       "[10, 20, 30, 40, 50, 60]"
      ]
     },
     "execution_count": 5,
     "metadata": {},
     "output_type": "execute_result"
    }
   ],
   "source": [
    "ls=[10,20,30,40,50,60]\n",
    "dell = ls[2:5]\n",
    "ls"
   ]
  },
  {
   "cell_type": "code",
   "execution_count": 7,
   "id": "2b8c1631",
   "metadata": {},
   "outputs": [
    {
     "name": "stdout",
     "output_type": "stream",
     "text": [
      "aus is a country\n",
      "India is a country\n"
     ]
    }
   ],
   "source": [
    "a=\"INDIA\"\n",
    "#a[0]=\"1I\"\n",
    "x=\"India is a country\"\n",
    "print(x.replace(\"India\",\"aus\"))\n",
    "print(x)"
   ]
  },
  {
   "cell_type": "code",
   "execution_count": 8,
   "id": "ed1c08db",
   "metadata": {},
   "outputs": [
    {
     "data": {
      "text/plain": [
       "'INDIA'"
      ]
     },
     "execution_count": 8,
     "metadata": {},
     "output_type": "execute_result"
    }
   ],
   "source": [
    "a.replace(\"i\",\"a\")"
   ]
  },
  {
   "cell_type": "code",
   "execution_count": 11,
   "id": "1fa5146d",
   "metadata": {},
   "outputs": [
    {
     "name": "stdout",
     "output_type": "stream",
     "text": [
      "2372140646896\n"
     ]
    }
   ],
   "source": [
    "a.replace(\"I\",\"A\")\n",
    "print(id(a))"
   ]
  },
  {
   "cell_type": "code",
   "execution_count": 13,
   "id": "b5bfdb4c",
   "metadata": {},
   "outputs": [
    {
     "name": "stdout",
     "output_type": "stream",
     "text": [
      "2372111645424\n",
      "india\n"
     ]
    }
   ],
   "source": [
    "a=\"india\"\n",
    "print(id(a))\n",
    "print(a)"
   ]
  },
  {
   "cell_type": "code",
   "execution_count": 1,
   "id": "7aa0c6be",
   "metadata": {},
   "outputs": [],
   "source": [
    "ls=[]\n",
    "if ls:\n",
    "    print(\"list is empty\")\n",
    "    "
   ]
  },
  {
   "cell_type": "code",
   "execution_count": 2,
   "id": "7bd686a1",
   "metadata": {},
   "outputs": [
    {
     "name": "stdout",
     "output_type": "stream",
     "text": [
      "<class 'int'>\n",
      "2094914169136\n",
      "<class 'float'>\n",
      "2095000455024\n",
      "<class 'str'>\n",
      "2095000329008\n"
     ]
    }
   ],
   "source": [
    "##variables are dynamically typed\n",
    "a=1\n",
    "print(type(a))\n",
    "print(id(a))\n",
    "\n",
    "a=1.23000\n",
    "print(type(a))\n",
    "print(id(a))\n",
    "\n",
    "a=\"INDIA\"\n",
    "print(type(a))\n",
    "print(id(a))\n"
   ]
  },
  {
   "cell_type": "code",
   "execution_count": 10,
   "id": "d8aa82e8",
   "metadata": {
    "scrolled": false
   },
   "outputs": [
    {
     "ename": "NameError",
     "evalue": "name 'Print' is not defined",
     "output_type": "error",
     "traceback": [
      "\u001b[1;31m---------------------------------------------------------------------------\u001b[0m",
      "\u001b[1;31mNameError\u001b[0m                                 Traceback (most recent call last)",
      "Input \u001b[1;32mIn [10]\u001b[0m, in \u001b[0;36m<cell line: 2>\u001b[1;34m()\u001b[0m\n\u001b[0;32m      1\u001b[0m a\u001b[38;5;241m=\u001b[39m\u001b[38;5;124m\"\u001b[39m\u001b[38;5;124mINDIAN\u001b[39m\u001b[38;5;124m\"\u001b[39m\n\u001b[1;32m----> 2\u001b[0m \u001b[43mPrint\u001b[49m (\u001b[38;5;28mid\u001b[39m(a))\n\u001b[0;32m      3\u001b[0m \u001b[38;5;28;01mdel\u001b[39;00m (a)\n\u001b[0;32m      4\u001b[0m \u001b[38;5;66;03m#print(a)\u001b[39;00m\n",
      "\u001b[1;31mNameError\u001b[0m: name 'Print' is not defined"
     ]
    }
   ],
   "source": [
    "a=\"INDIAN\"\n",
    "Print (id(a))\n",
    "del (a)\n",
    "#print(a)\n",
    "\n",
    "b=\"INDIAN\"\n",
    "print (id(b))"
   ]
  },
  {
   "cell_type": "code",
   "execution_count": null,
   "id": "eaf019dc",
   "metadata": {},
   "outputs": [],
   "source": []
  },
  {
   "cell_type": "code",
   "execution_count": null,
   "id": "f2a877cf",
   "metadata": {},
   "outputs": [],
   "source": []
  }
 ],
 "metadata": {
  "kernelspec": {
   "display_name": "Python 3 (ipykernel)",
   "language": "python",
   "name": "python3"
  },
  "language_info": {
   "codemirror_mode": {
    "name": "ipython",
    "version": 3
   },
   "file_extension": ".py",
   "mimetype": "text/x-python",
   "name": "python",
   "nbconvert_exporter": "python",
   "pygments_lexer": "ipython3",
   "version": "3.9.12"
  }
 },
 "nbformat": 4,
 "nbformat_minor": 5
}
