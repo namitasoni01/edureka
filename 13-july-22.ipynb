{
 "cells": [
  {
   "cell_type": "code",
   "execution_count": 1,
   "id": "5d1c32dd",
   "metadata": {},
   "outputs": [
    {
     "name": "stdout",
     "output_type": "stream",
     "text": [
      "10\n"
     ]
    }
   ],
   "source": [
    "##numbers\n",
    "#single assignment\n",
    "a=10\n",
    "print(a)"
   ]
  },
  {
   "cell_type": "code",
   "execution_count": 2,
   "id": "94027bb1",
   "metadata": {},
   "outputs": [
    {
     "name": "stdout",
     "output_type": "stream",
     "text": [
      "1\n",
      "2\n",
      "3\n",
      "4\n"
     ]
    }
   ],
   "source": [
    "##multiple assignment\n",
    "a,b,c,d=1,2,3,4\n",
    "print(a)\n",
    "print(b)\n",
    "print(c)\n",
    "print(d)"
   ]
  },
  {
   "cell_type": "code",
   "execution_count": 9,
   "id": "aa983429",
   "metadata": {},
   "outputs": [
    {
     "name": "stdout",
     "output_type": "stream",
     "text": [
      "HAPPY BIRTHDAY\n"
     ]
    }
   ],
   "source": [
    "##string:anything that is within\n",
    "a=\"HAPPY BIRTHDAY\"\n",
    "print(a)"
   ]
  },
  {
   "cell_type": "code",
   "execution_count": 16,
   "id": "7a162e19",
   "metadata": {},
   "outputs": [
    {
     "data": {
      "text/plain": [
       "'BIRTH'"
      ]
     },
     "execution_count": 16,
     "metadata": {},
     "output_type": "execute_result"
    }
   ],
   "source": [
    "a[6:11]"
   ]
  },
  {
   "cell_type": "code",
   "execution_count": 18,
   "id": "4e8e825c",
   "metadata": {},
   "outputs": [
    {
     "data": {
      "text/plain": [
       "'BIRTH'"
      ]
     },
     "execution_count": 18,
     "metadata": {},
     "output_type": "execute_result"
    }
   ],
   "source": [
    "##get birth is positive indexing\n",
    "a[6:11]"
   ]
  },
  {
   "cell_type": "code",
   "execution_count": 19,
   "id": "b237894b",
   "metadata": {},
   "outputs": [
    {
     "data": {
      "text/plain": [
       "'BIRTH'"
      ]
     },
     "execution_count": 19,
     "metadata": {},
     "output_type": "execute_result"
    }
   ],
   "source": [
    "##get birth is negative indexing\n",
    "a[-8:-3]"
   ]
  },
  {
   "cell_type": "code",
   "execution_count": 20,
   "id": "abbfd8f9",
   "metadata": {},
   "outputs": [
    {
     "data": {
      "text/plain": [
       "'APPY'"
      ]
     },
     "execution_count": 20,
     "metadata": {},
     "output_type": "execute_result"
    }
   ],
   "source": [
    "##get appy is positive indexing\n",
    "a[1:5]"
   ]
  },
  {
   "cell_type": "code",
   "execution_count": 23,
   "id": "7299e811",
   "metadata": {},
   "outputs": [
    {
     "data": {
      "text/plain": [
       "'APPY'"
      ]
     },
     "execution_count": 23,
     "metadata": {},
     "output_type": "execute_result"
    }
   ],
   "source": [
    "##get appy is positive indexing\n",
    "a[-13:-9]"
   ]
  },
  {
   "cell_type": "code",
   "execution_count": 25,
   "id": "689df3b6",
   "metadata": {},
   "outputs": [
    {
     "data": {
      "text/plain": [
       "'BIRTH'"
      ]
     },
     "execution_count": 25,
     "metadata": {},
     "output_type": "execute_result"
    }
   ],
   "source": [
    "##mixed indexing\n",
    "a[6:-3]"
   ]
  },
  {
   "cell_type": "code",
   "execution_count": 26,
   "id": "96d5041d",
   "metadata": {},
   "outputs": [
    {
     "data": {
      "text/plain": [
       "'BIRTH'"
      ]
     },
     "execution_count": 26,
     "metadata": {},
     "output_type": "execute_result"
    }
   ],
   "source": [
    "##mixed indexing\n",
    "a[-8:11]"
   ]
  },
  {
   "cell_type": "code",
   "execution_count": 33,
   "id": "3d201ffa",
   "metadata": {},
   "outputs": [
    {
     "name": "stdout",
     "output_type": "stream",
     "text": [
      "[]\n"
     ]
    },
    {
     "data": {
      "text/plain": [
       "list"
      ]
     },
     "execution_count": 33,
     "metadata": {},
     "output_type": "execute_result"
    }
   ],
   "source": [
    "#####list\n",
    "##create a empty list\n",
    "ls=[]\n",
    "print(ls)\n",
    "type(ls)"
   ]
  },
  {
   "cell_type": "code",
   "execution_count": 42,
   "id": "06b326ff",
   "metadata": {},
   "outputs": [
    {
     "data": {
      "text/plain": [
       "[1, 2, 3, 4, 5, 6, 7, 8, 9, 10]"
      ]
     },
     "execution_count": 42,
     "metadata": {},
     "output_type": "execute_result"
    }
   ],
   "source": [
    "#create a list of number 1 to 10\n",
    "ls=[1,2,3,4,5,6,7,8,9,10]\n",
    "ls"
   ]
  },
  {
   "cell_type": "code",
   "execution_count": 47,
   "id": "b6541e20",
   "metadata": {},
   "outputs": [
    {
     "data": {
      "text/plain": [
       "['a', 'b', 'c', 'd', 'e', 'f']"
      ]
     },
     "execution_count": 47,
     "metadata": {},
     "output_type": "execute_result"
    }
   ],
   "source": [
    "##create a list of alphabets a,b,c,d,e,f\n",
    "ls= ['a','b','c','d','e','f']\n",
    "ls"
   ]
  },
  {
   "cell_type": "code",
   "execution_count": 52,
   "id": "c81122ab",
   "metadata": {},
   "outputs": [
    {
     "data": {
      "text/plain": [
       "'SANFRANCISCO'"
      ]
     },
     "execution_count": 52,
     "metadata": {},
     "output_type": "execute_result"
    }
   ],
   "source": [
    "ls=['SANFRANCISCO']\n",
    "ls [0]"
   ]
  },
  {
   "cell_type": "code",
   "execution_count": 54,
   "id": "353bba77",
   "metadata": {},
   "outputs": [
    {
     "data": {
      "text/plain": [
       "[]"
      ]
     },
     "execution_count": 54,
     "metadata": {},
     "output_type": "execute_result"
    }
   ],
   "source": [
    "ls=['a','b','c','d','e','fairytale']\n",
    "ls[5]=['fairytale']\n",
    "ls[5] [5:9]"
   ]
  },
  {
   "cell_type": "code",
   "execution_count": 60,
   "id": "cc348599",
   "metadata": {},
   "outputs": [
    {
     "data": {
      "text/plain": [
       "'CISCO'"
      ]
     },
     "execution_count": 60,
     "metadata": {},
     "output_type": "execute_result"
    }
   ],
   "source": [
    "ls=['SAMFRANCISCO']\n",
    "ls [0] [7:]"
   ]
  },
  {
   "cell_type": "code",
   "execution_count": 61,
   "id": "133619bb",
   "metadata": {},
   "outputs": [
    {
     "data": {
      "text/plain": [
       "list"
      ]
     },
     "execution_count": 61,
     "metadata": {},
     "output_type": "execute_result"
    }
   ],
   "source": [
    "a=[\"HAPPY BIRTHDAY\"]\n",
    "type(a)"
   ]
  },
  {
   "cell_type": "code",
   "execution_count": 1,
   "id": "07590e24",
   "metadata": {},
   "outputs": [
    {
     "data": {
      "text/plain": [
       "tuple"
      ]
     },
     "execution_count": 1,
     "metadata": {},
     "output_type": "execute_result"
    }
   ],
   "source": [
    "## tuple  \n",
    "tu = (1,2,3,4,5)\n",
    "type(tu)"
   ]
  },
  {
   "cell_type": "code",
   "execution_count": 2,
   "id": "2ea5fa33",
   "metadata": {},
   "outputs": [
    {
     "data": {
      "text/plain": [
       "set"
      ]
     },
     "execution_count": 2,
     "metadata": {},
     "output_type": "execute_result"
    }
   ],
   "source": [
    "st = {1,2,3,4,5}\n",
    "type(st)"
   ]
  },
  {
   "cell_type": "code",
   "execution_count": null,
   "id": "dd2393b0",
   "metadata": {},
   "outputs": [],
   "source": []
  }
 ],
 "metadata": {
  "kernelspec": {
   "display_name": "Python 3 (ipykernel)",
   "language": "python",
   "name": "python3"
  },
  "language_info": {
   "codemirror_mode": {
    "name": "ipython",
    "version": 3
   },
   "file_extension": ".py",
   "mimetype": "text/x-python",
   "name": "python",
   "nbconvert_exporter": "python",
   "pygments_lexer": "ipython3",
   "version": "3.9.12"
  }
 },
 "nbformat": 4,
 "nbformat_minor": 5
}
