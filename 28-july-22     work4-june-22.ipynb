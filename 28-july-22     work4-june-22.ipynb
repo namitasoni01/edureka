{
 "cells": [
  {
   "cell_type": "code",
   "execution_count": 2,
   "id": "d8f65077",
   "metadata": {},
   "outputs": [
    {
     "name": "stdout",
     "output_type": "stream",
     "text": [
      "10\n",
      "20\n",
      "30\n",
      "40\n",
      "50\n"
     ]
    }
   ],
   "source": [
    "##for loop-it is used to itetrate through the given object\n",
    "ls=[10,20,30,40,50]\n",
    "for i in ls:\n",
    "    print(i)"
   ]
  },
  {
   "cell_type": "code",
   "execution_count": 4,
   "id": "5b53bc57",
   "metadata": {},
   "outputs": [
    {
     "name": "stdout",
     "output_type": "stream",
     "text": [
      "2\n",
      "4\n",
      "6\n",
      "8\n",
      "10\n",
      "12\n",
      "14\n",
      "16\n",
      "18\n",
      "20\n"
     ]
    }
   ],
   "source": [
    "##table of 2 in python\n",
    "ls=[1,2,3,4,5,6,7,8,9,10]\n",
    "for i in ls:\n",
    "    print(i*2)"
   ]
  },
  {
   "cell_type": "code",
   "execution_count": 5,
   "id": "27f02a73",
   "metadata": {},
   "outputs": [
    {
     "name": "stdout",
     "output_type": "stream",
     "text": [
      "9\n",
      "18\n",
      "27\n",
      "36\n",
      "45\n",
      "54\n",
      "63\n",
      "72\n",
      "81\n",
      "90\n"
     ]
    }
   ],
   "source": [
    "##generate table of 9\n",
    "ls=[1,2,3,4,5,6,7,8,9,10]\n",
    "for i in ls:\n",
    "    print(i*9)"
   ]
  },
  {
   "cell_type": "code",
   "execution_count": 10,
   "id": "f8d628e9",
   "metadata": {},
   "outputs": [
    {
     "name": "stdout",
     "output_type": "stream",
     "text": [
      "2\n",
      "4\n",
      "6\n",
      "8\n",
      "10\n"
     ]
    }
   ],
   "source": [
    "##combination if and for\n",
    "##print the even number in the list\n",
    "ls=[1,2,3,4,5,6,7,8,9,10]\n",
    "for i in ls:\n",
    "    if i%2 == 0:\n",
    "         print(i)"
   ]
  },
  {
   "cell_type": "code",
   "execution_count": 11,
   "id": "c017c701",
   "metadata": {},
   "outputs": [
    {
     "name": "stdout",
     "output_type": "stream",
     "text": [
      "1\n",
      "2\n",
      "3\n",
      "4\n",
      "5\n",
      "6\n",
      "7\n",
      "8\n",
      "9\n"
     ]
    }
   ],
   "source": [
    "##while loop-the loop keeps on executing as long as the given condition is true\n",
    "a=1\n",
    "while a<10:\n",
    "    print(a)\n",
    "    a+=1"
   ]
  },
  {
   "cell_type": "code",
   "execution_count": 12,
   "id": "372adb53",
   "metadata": {},
   "outputs": [
    {
     "name": "stdout",
     "output_type": "stream",
     "text": [
      "0\n",
      "1\n",
      "2\n",
      "3\n",
      "4\n",
      "5\n",
      "6\n",
      "7\n",
      "8\n",
      "9\n",
      "10\n",
      "11\n",
      "12\n",
      "13\n",
      "14\n",
      "15\n"
     ]
    }
   ],
   "source": [
    "#run a loop till the variable a=0 is 15\n",
    "a=0\n",
    "while a<=15:\n",
    "    print(a)\n",
    "    a+=1"
   ]
  },
  {
   "cell_type": "code",
   "execution_count": 16,
   "id": "5c11daf5",
   "metadata": {},
   "outputs": [
    {
     "name": "stdout",
     "output_type": "stream",
     "text": [
      "1\n",
      "2\n",
      "3\n",
      "4\n"
     ]
    }
   ],
   "source": [
    "##control statement: break,continue and pass\n",
    "##break:interupt the execution and come out of the loop\n",
    "ls=[1,2,3,4,5,6,7,8,9]\n",
    "for i in ls:\n",
    "    print(i)\n",
    "    if i == 4:\n",
    "        break"
   ]
  },
  {
   "cell_type": "code",
   "execution_count": 17,
   "id": "afff4e9e",
   "metadata": {},
   "outputs": [
    {
     "name": "stdout",
     "output_type": "stream",
     "text": [
      "1\n",
      "3\n",
      "5\n",
      "7\n",
      "9\n",
      "11\n",
      "12\n"
     ]
    }
   ],
   "source": [
    "##break at an even number \n",
    "ls=[1,3,5,7,9,11,12,13,15,17,19]\n",
    "for i in ls:\n",
    "    print(i)\n",
    "    if i%2==0:\n",
    "        break"
   ]
  },
  {
   "cell_type": "code",
   "execution_count": 18,
   "id": "4dbb428a",
   "metadata": {},
   "outputs": [
    {
     "name": "stdout",
     "output_type": "stream",
     "text": [
      "1\n",
      "2\n",
      "3\n",
      "4\n",
      "4\n",
      "5\n",
      "6\n",
      "7\n",
      "8\n",
      "9\n"
     ]
    }
   ],
   "source": [
    "##continue: stop the current iteration of the loop and continues with need iteration\n",
    "ls=[1,2,3,4,5,6,7,8,9]\n",
    "for i in ls:\n",
    "    print(i)\n",
    "    if i==4:\n",
    "        print(i)\n",
    "        continue"
   ]
  },
  {
   "cell_type": "code",
   "execution_count": 27,
   "id": "775abc76",
   "metadata": {},
   "outputs": [
    {
     "name": "stdout",
     "output_type": "stream",
     "text": [
      "4\n"
     ]
    }
   ],
   "source": [
    "a=0\n",
    "\n",
    "while a<10:\n",
    "    a+=1\n",
    "    if a==4:\n",
    "        print(a)\n",
    "        continue"
   ]
  },
  {
   "cell_type": "code",
   "execution_count": 32,
   "id": "a013e5c3",
   "metadata": {},
   "outputs": [],
   "source": [
    "##continue the table of 2 without 10\n",
    "ls=[1,2,3,4,5,6,7,8,9,10]\n",
    "for i in ls:\n",
    "    if i*2==10:\n",
    "        continue\n",
    "        print(i*2)"
   ]
  },
  {
   "cell_type": "code",
   "execution_count": 44,
   "id": "6bd92d6c",
   "metadata": {},
   "outputs": [
    {
     "name": "stdout",
     "output_type": "stream",
     "text": [
      "0\n",
      "0\n",
      "0\n",
      "0\n",
      "0\n",
      "0\n",
      "0\n"
     ]
    }
   ],
   "source": [
    "##pass:it will just let the iterator to pass\n",
    "ls = [1,2,3,4,5,6,7]\n",
    "for i in ls:\n",
    "    pass \n",
    "    print('0')"
   ]
  },
  {
   "cell_type": "code",
   "execution_count": 19,
   "id": "cb4b710e",
   "metadata": {},
   "outputs": [
    {
     "name": "stdout",
     "output_type": "stream",
     "text": [
      "4\n"
     ]
    }
   ],
   "source": [
    "ls=[1,2,3,4,5,6,7]\n",
    "for i in ls:\n",
    "    if i==4:\n",
    "         #pass\n",
    "            #print('this is pass block')\n",
    "        print(i)"
   ]
  },
  {
   "cell_type": "code",
   "execution_count": 15,
   "id": "959d3793",
   "metadata": {},
   "outputs": [],
   "source": [
    "##function:function are set of resuable codes \n",
    "##function to print a wellcome messege\n",
    "def welcome():\n",
    "    print(\"hi, welcome to the python session!!\")"
   ]
  },
  {
   "cell_type": "code",
   "execution_count": 45,
   "id": "60ec703a",
   "metadata": {},
   "outputs": [],
   "source": [
    "##function to create the table of a given number\n",
    "def table(a):\n",
    "    i=1\n",
    "    while  i<=10:\n",
    "        print(i*a)\n",
    "        i+=1"
   ]
  },
  {
   "cell_type": "code",
   "execution_count": 47,
   "id": "602be16a",
   "metadata": {},
   "outputs": [
    {
     "name": "stdout",
     "output_type": "stream",
     "text": [
      "3\n",
      "6\n",
      "9\n",
      "12\n",
      "15\n",
      "18\n",
      "21\n",
      "24\n",
      "27\n",
      "30\n"
     ]
    },
    {
     "data": {
      "text/plain": [
       "30"
      ]
     },
     "execution_count": 47,
     "metadata": {},
     "output_type": "execute_result"
    }
   ],
   "source": [
    "table(3)\n",
    "3\n",
    "6\n",
    "9\n",
    "12\n",
    "15\n",
    "18\n",
    "21\n",
    "24\n",
    "27\n",
    "30\n"
   ]
  },
  {
   "cell_type": "code",
   "execution_count": 51,
   "id": "d0344b31",
   "metadata": {},
   "outputs": [],
   "source": [
    "##create a function to add 2 number\n",
    "def sumnum(a,b):\n",
    "    print(a+b) "
   ]
  },
  {
   "cell_type": "code",
   "execution_count": 52,
   "id": "537e97b9",
   "metadata": {},
   "outputs": [
    {
     "name": "stdout",
     "output_type": "stream",
     "text": [
      "30\n"
     ]
    }
   ],
   "source": [
    "sumnum(10,20)"
   ]
  },
  {
   "cell_type": "code",
   "execution_count": 62,
   "id": "e9cd9bd4",
   "metadata": {},
   "outputs": [
    {
     "name": "stdout",
     "output_type": "stream",
     "text": [
      "type the input12345\n",
      "12345\n"
     ]
    },
    {
     "data": {
      "text/plain": [
       "str"
      ]
     },
     "execution_count": 62,
     "metadata": {},
     "output_type": "execute_result"
    }
   ],
   "source": [
    "##default input is a string\n",
    "a=input(\"type the input\")\n",
    "print(a)\n",
    "type(a)"
   ]
  },
  {
   "cell_type": "code",
   "execution_count": 63,
   "id": "6d025eb4",
   "metadata": {},
   "outputs": [],
   "source": [
    "##simple calculation using python\n",
    "##take input of 2 number from user\n",
    "##take input of operation from user(add,sub,mult,divide)\n",
    "##given the output"
   ]
  },
  {
   "cell_type": "code",
   "execution_count": 65,
   "id": "c7146bc1",
   "metadata": {},
   "outputs": [
    {
     "name": "stdout",
     "output_type": "stream",
     "text": [
      "range(0, 20)\n",
      "[0, 1, 2, 3, 4, 5, 6, 7, 8, 9, 10, 11, 12, 13, 14, 15, 16, 17, 18, 19]\n"
     ]
    },
    {
     "data": {
      "text/plain": [
       "range(0, 20)"
      ]
     },
     "execution_count": 65,
     "metadata": {},
     "output_type": "execute_result"
    }
   ],
   "source": [
    "##range function python:create a sequence of number\n",
    "##syntax\n",
    "#range(start,stop,step)\n",
    "#start default=0\n",
    "#stop is mandatory\n",
    "#step is optimal:default is 1\n",
    "a=range(0,20,1)\n",
    "print(a)\n",
    "a=list(range(0,20,1))\n",
    "print(a)\n",
    "range(0,20)"
   ]
  },
  {
   "cell_type": "raw",
   "id": "44e72365",
   "metadata": {},
   "source": [
    "##lambda function:function without name (anous mous)\n",
    "#syntax:\n",
    "#lamda arguments:expression\n",
    "##it can take any number of  arguments \n",
    "x=lamda a:a+12\n",
    "print(x(3))\n",
    "type(x)\n"
   ]
  },
  {
   "cell_type": "code",
   "execution_count": 1,
   "id": "53f3586e",
   "metadata": {},
   "outputs": [
    {
     "name": "stdout",
     "output_type": "stream",
     "text": [
      "10\n"
     ]
    }
   ],
   "source": [
    "##using lambda add 4 numbers\n",
    "x=lambda a,b,c,d: a+b+c+d\n",
    "print(x(1,2,3,4))"
   ]
  },
  {
   "cell_type": "code",
   "execution_count": null,
   "id": "74a879b6",
   "metadata": {},
   "outputs": [],
   "source": []
  }
 ],
 "metadata": {
  "kernelspec": {
   "display_name": "Python 3 (ipykernel)",
   "language": "python",
   "name": "python3"
  },
  "language_info": {
   "codemirror_mode": {
    "name": "ipython",
    "version": 3
   },
   "file_extension": ".py",
   "mimetype": "text/x-python",
   "name": "python",
   "nbconvert_exporter": "python",
   "pygments_lexer": "ipython3",
   "version": "3.9.12"
  }
 },
 "nbformat": 4,
 "nbformat_minor": 5
}
