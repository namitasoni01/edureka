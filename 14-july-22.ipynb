{
 "cells": [
  {
   "cell_type": "code",
   "execution_count": 1,
   "id": "63fb44f4",
   "metadata": {},
   "outputs": [
    {
     "data": {
      "text/plain": [
       "dict"
      ]
     },
     "execution_count": 1,
     "metadata": {},
     "output_type": "execute_result"
    }
   ],
   "source": [
    "dt={'a':'1','b':2}\n",
    "type(dt)"
   ]
  },
  {
   "cell_type": "code",
   "execution_count": 6,
   "id": "d673a2f8",
   "metadata": {},
   "outputs": [
    {
     "name": "stdout",
     "output_type": "stream",
     "text": [
      "tail\n",
      "['a', 'b', 'c', 'd', 'e', 'laptop']\n"
     ]
    },
    {
     "data": {
      "text/plain": [
       "['a', 'b', 'c', 'd', 'e', 'laptop']"
      ]
     },
     "execution_count": 6,
     "metadata": {},
     "output_type": "execute_result"
    }
   ],
   "source": [
    "##create a list of alphabets a,b,c,d,e,f\n",
    "ls=['a','b','c','d','e','fairytail']\n",
    "print(ls[5][5:])\n",
    "###mutable\n",
    "ls[5]='laptop'\n",
    "print(ls)\n",
    "['a','b','c','d','e','laptop']"
   ]
  },
  {
   "cell_type": "code",
   "execution_count": 11,
   "id": "ceec51ad",
   "metadata": {},
   "outputs": [
    {
     "name": "stdout",
     "output_type": "stream",
     "text": [
      "dict_keys(['a', 'b'])\n",
      "dict_values([1, 2])\n"
     ]
    }
   ],
   "source": [
    "dt={'a':1,'b':2}\n",
    "type(dt)\n",
    "print(dt.keys())\n",
    "print(dt.values())"
   ]
  },
  {
   "cell_type": "code",
   "execution_count": 33,
   "id": "b86f27bb",
   "metadata": {},
   "outputs": [
    {
     "name": "stdout",
     "output_type": "stream",
     "text": [
      "[1, 2, 3, 4]\n"
     ]
    },
    {
     "data": {
      "text/plain": [
       "tuple"
      ]
     },
     "execution_count": 33,
     "metadata": {},
     "output_type": "execute_result"
    }
   ],
   "source": [
    "##  Tuple\n",
    "ls=[1,2,3,4]\n",
    "## Immutable\n",
    "print(ls)\n",
    "type(tu)"
   ]
  },
  {
   "cell_type": "code",
   "execution_count": null,
   "id": "36390237",
   "metadata": {},
   "outputs": [],
   "source": []
  },
  {
   "cell_type": "code",
   "execution_count": 3,
   "id": "35472a5f",
   "metadata": {},
   "outputs": [
    {
     "data": {
      "text/plain": [
       "type[['ANKIT']]"
      ]
     },
     "execution_count": 3,
     "metadata": {},
     "output_type": "execute_result"
    }
   ],
   "source": [
    "ls=[\"SANFRANCISCO\"]\n",
    "ls[0]='ANKIT'\n",
    "type[ls]"
   ]
  },
  {
   "cell_type": "code",
   "execution_count": 19,
   "id": "c8e50904",
   "metadata": {},
   "outputs": [
    {
     "data": {
      "text/plain": [
       "0"
      ]
     },
     "execution_count": 19,
     "metadata": {},
     "output_type": "execute_result"
    }
   ],
   "source": [
    "#length of a list\n",
    "ls=[]\n",
    "len(ls)\n"
   ]
  },
  {
   "cell_type": "code",
   "execution_count": 21,
   "id": "0effe6f4",
   "metadata": {},
   "outputs": [
    {
     "name": "stdout",
     "output_type": "stream",
     "text": [
      "6\n"
     ]
    },
    {
     "data": {
      "text/plain": [
       "2"
      ]
     },
     "execution_count": 21,
     "metadata": {},
     "output_type": "execute_result"
    }
   ],
   "source": [
    "ls=[10,20,30,10,20,30]\n",
    "print(len(ls))\n",
    "##count gives the number of times a element is there in the list\n",
    "ls.count(10)"
   ]
  },
  {
   "cell_type": "code",
   "execution_count": 23,
   "id": "1e3d485d",
   "metadata": {},
   "outputs": [
    {
     "name": "stdout",
     "output_type": "stream",
     "text": [
      "[]\n",
      "[2]\n",
      "[2, ['a', 'b']]\n",
      "[2, ['a', 'b'], [1, 2, 3]]\n",
      "[2, ['a', 'b'], [1, 2, 3], [1, 2, 3, 4]]\n",
      "[2, ['a', 'b'], [1, 2, 3], [1, 2, 3, 4], [23, 23, 23]]\n"
     ]
    }
   ],
   "source": [
    "##adding elements to the list using append\n",
    "ls=[]\n",
    "print(ls)\n",
    "ls.append(2)\n",
    "print(ls)\n",
    "ls.append(['a','b'])\n",
    "print(ls)\n",
    "ls.append([1,2,3])\n",
    "print(ls)\n",
    "ls.append([1,2,3,4])\n",
    "print(ls)\n",
    "ls.append([23,23,23])\n",
    "print(ls)"
   ]
  },
  {
   "cell_type": "code",
   "execution_count": 21,
   "id": "5b489df0",
   "metadata": {},
   "outputs": [
    {
     "name": "stdout",
     "output_type": "stream",
     "text": [
      "[10, 20]\n"
     ]
    },
    {
     "ename": "ValueError",
     "evalue": "list.remove(x): x not in list",
     "output_type": "error",
     "traceback": [
      "\u001b[1;31m---------------------------------------------------------------------------\u001b[0m",
      "\u001b[1;31mValueError\u001b[0m                                Traceback (most recent call last)",
      "Input \u001b[1;32mIn [21]\u001b[0m, in \u001b[0;36m<cell line: 7>\u001b[1;34m()\u001b[0m\n\u001b[0;32m      1\u001b[0m \u001b[38;5;66;03m### remove element from a list \u001b[39;00m\n\u001b[0;32m      2\u001b[0m \n\u001b[0;32m      3\u001b[0m \u001b[38;5;66;03m## remove () - remove the given element from the list\u001b[39;00m\n\u001b[0;32m      5\u001b[0m \u001b[38;5;28mprint\u001b[39m(ls)\n\u001b[1;32m----> 7\u001b[0m \u001b[43mls\u001b[49m\u001b[38;5;241;43m.\u001b[39;49m\u001b[43mremove\u001b[49m\u001b[43m(\u001b[49m\u001b[43m{\u001b[49m\u001b[38;5;241;43m1\u001b[39;49m\u001b[43m,\u001b[49m\u001b[43m \u001b[49m\u001b[38;5;241;43m2\u001b[39;49m\u001b[43m,\u001b[49m\u001b[43m \u001b[49m\u001b[38;5;241;43m3\u001b[39;49m\u001b[43m,\u001b[49m\u001b[43m \u001b[49m\u001b[38;5;241;43m4\u001b[39;49m\u001b[43m}\u001b[49m\u001b[43m)\u001b[49m\n\u001b[0;32m      8\u001b[0m \u001b[38;5;28mprint\u001b[39m(ls)\n\u001b[0;32m     10\u001b[0m ls\u001b[38;5;241m.\u001b[39mremove([\u001b[38;5;124m'\u001b[39m\u001b[38;5;124ma\u001b[39m\u001b[38;5;124m'\u001b[39m,\u001b[38;5;124m'\u001b[39m\u001b[38;5;124mb\u001b[39m\u001b[38;5;124m'\u001b[39m])\n",
      "\u001b[1;31mValueError\u001b[0m: list.remove(x): x not in list"
     ]
    }
   ],
   "source": [
    "### remove element from a list \n",
    "\n",
    "## remove () - remove the given element from the list\n",
    "\n",
    "print(ls)\n",
    "\n",
    "ls.remove({1, 2, 3, 4})\n",
    "print(ls)\n",
    "\n",
    "ls.remove(['a','b'])\n",
    "print(ls)"
   ]
  },
  {
   "cell_type": "code",
   "execution_count": 20,
   "id": "5ae69b1f",
   "metadata": {},
   "outputs": [
    {
     "name": "stdout",
     "output_type": "stream",
     "text": [
      "[10, 20, 60]\n",
      "[10, 20]\n"
     ]
    },
    {
     "ename": "IndexError",
     "evalue": "pop index out of range",
     "output_type": "error",
     "traceback": [
      "\u001b[1;31m---------------------------------------------------------------------------\u001b[0m",
      "\u001b[1;31mIndexError\u001b[0m                                Traceback (most recent call last)",
      "Input \u001b[1;32mIn [20]\u001b[0m, in \u001b[0;36m<cell line: 7>\u001b[1;34m()\u001b[0m\n\u001b[0;32m      4\u001b[0m ls\u001b[38;5;241m.\u001b[39mpop()\n\u001b[0;32m      5\u001b[0m \u001b[38;5;28mprint\u001b[39m(ls)\n\u001b[1;32m----> 7\u001b[0m \u001b[43mls\u001b[49m\u001b[38;5;241;43m.\u001b[39;49m\u001b[43mpop\u001b[49m\u001b[43m(\u001b[49m\u001b[38;5;241;43m3\u001b[39;49m\u001b[43m)\u001b[49m\n\u001b[0;32m      8\u001b[0m \u001b[38;5;28mprint\u001b[39m(ls)\n",
      "\u001b[1;31mIndexError\u001b[0m: pop index out of range"
     ]
    }
   ],
   "source": [
    "##pop()- by default pop removes the last element by giving a position (not index) we can remove other elements too\n",
    "print(ls)\n",
    "\n",
    "ls.pop()\n",
    "print(ls)\n",
    "\n",
    "ls.pop(3)\n",
    "print(ls)"
   ]
  },
  {
   "cell_type": "code",
   "execution_count": 10,
   "id": "6f3c30b7",
   "metadata": {},
   "outputs": [
    {
     "data": {
      "text/plain": [
       "[10, 20, 60]"
      ]
     },
     "execution_count": 10,
     "metadata": {},
     "output_type": "execute_result"
    }
   ],
   "source": [
    "ls=[10,20,30,40,50,60]\n",
    "del ls[2:5]\n",
    "\n",
    "ls"
   ]
  },
  {
   "cell_type": "code",
   "execution_count": 27,
   "id": "ee254010",
   "metadata": {},
   "outputs": [
    {
     "name": "stdout",
     "output_type": "stream",
     "text": [
      "[1, 2, 3, 4, 50, 20, 40, 10, 30]\n",
      "[1, 2, 3, 4, 50, 20, 40, 10, 30, 1, 2, 3, 4, 50, 20, 40, 10, 30]\n"
     ]
    }
   ],
   "source": [
    "## explore\n",
    "ls=[1,2,3,4]\n",
    "\n",
    "ls.extend({10,20,30,40,50})\n",
    "print(ls)\n",
    "\n",
    "ls.extend(ls)\n",
    "print(ls)   "
   ]
  },
  {
   "cell_type": "code",
   "execution_count": 36,
   "id": "44bfa23c",
   "metadata": {},
   "outputs": [
    {
     "data": {
      "text/plain": [
       "{'a', 'b', 'c'}"
      ]
     },
     "execution_count": 36,
     "metadata": {},
     "output_type": "execute_result"
    }
   ],
   "source": [
    "##mutability of set \n",
    "#uniquness \n",
    "st={'a','b','c','c'}\n",
    "st"
   ]
  },
  {
   "cell_type": "code",
   "execution_count": 3,
   "id": "7c27902d",
   "metadata": {},
   "outputs": [
    {
     "data": {
      "text/plain": [
       "{'a', 'b', 'c', 'india'}"
      ]
     },
     "execution_count": 3,
     "metadata": {},
     "output_type": "execute_result"
    }
   ],
   "source": [
    "st={'a','b','c'}\n",
    "st\n",
    "\n",
    "st.add(\"india\")\n",
    "st"
   ]
  },
  {
   "cell_type": "code",
   "execution_count": 5,
   "id": "50c7676a",
   "metadata": {},
   "outputs": [
    {
     "name": "stdout",
     "output_type": "stream",
     "text": [
      "<class 'set'>\n",
      "<class 'frozenset'>\n"
     ]
    }
   ],
   "source": [
    "##frozenset\n",
    "ls={1,2,3,4,5}\n",
    "print(type(ls))\n",
    "stt=frozenset(ls)\n",
    "print(type(stt))"
   ]
  },
  {
   "cell_type": "code",
   "execution_count": 8,
   "id": "576db416",
   "metadata": {},
   "outputs": [
    {
     "name": "stdout",
     "output_type": "stream",
     "text": [
      "{1, 2, 3, 'b', 'a', 'INDIA', 'c'}\n",
      "{1, 2, 3, 'b', 'a', 'INDIA'}\n"
     ]
    }
   ],
   "source": [
    "#adding element \n",
    "st={'a','b','c',1,2,3}\n",
    "st\n",
    "st.add(\"INDIA\")\n",
    "print(st)\n",
    "st.remove('c')\n",
    "print(st)"
   ]
  },
  {
   "cell_type": "code",
   "execution_count": null,
   "id": "a5ea3bad",
   "metadata": {},
   "outputs": [],
   "source": [
    "##remove element from a set\n",
    "stt.remove(3)\n",
    "attributeerrror\n",
    "input in[20]in<cellline:()\n",
    "1##remove element from a set \n",
    "2stt.remove(3)\n",
    "attributeerror:frozenset'object has no attribute remove'"
   ]
  },
  {
   "cell_type": "code",
   "execution_count": 9,
   "id": "23acedac",
   "metadata": {},
   "outputs": [
    {
     "ename": "SyntaxError",
     "evalue": "invalid syntax (3236006675.py, line 6)",
     "output_type": "error",
     "traceback": [
      "\u001b[1;36m  Input \u001b[1;32mIn [9]\u001b[1;36m\u001b[0m\n\u001b[1;33m    <class\"set\">\u001b[0m\n\u001b[1;37m    ^\u001b[0m\n\u001b[1;31mSyntaxError\u001b[0m\u001b[1;31m:\u001b[0m invalid syntax\n"
     ]
    }
   ],
   "source": [
    "##drozen set\n",
    "ls={'a',\"b\",'a',\"b\",1,2,3,4,5}\n",
    "print(type(ls))\n",
    "print(type(stt))\n",
    "stt\n",
    "<class\"set\">\n",
    "<class\"frozenset\">##replace##"
   ]
  },
  {
   "cell_type": "code",
   "execution_count": 7,
   "id": "7724fe67",
   "metadata": {},
   "outputs": [
    {
     "data": {
      "text/plain": [
       "{1, 2, 3, 3.2, 4.5, 'a', 'b', 'c', 'india'}"
      ]
     },
     "execution_count": 7,
     "metadata": {},
     "output_type": "execute_result"
    }
   ],
   "source": [
    "##replace\n",
    "ls = {1,2,3,'a','b','c','india',3.2,4.5}\n",
    "ls"
   ]
  },
  {
   "cell_type": "code",
   "execution_count": 5,
   "id": "22f215db",
   "metadata": {},
   "outputs": [
    {
     "data": {
      "text/plain": [
       "{1, 2, 3, 3.2, 4.5, 'a', 'b', 'c', 'sai_krishna'}"
      ]
     },
     "execution_count": 5,
     "metadata": {},
     "output_type": "execute_result"
    }
   ],
   "source": [
    "ls.remove('india')\n",
    "ls.add('sai_krishna')\n",
    "ls"
   ]
  },
  {
   "cell_type": "code",
   "execution_count": 8,
   "id": "70d9e7cf",
   "metadata": {},
   "outputs": [
    {
     "name": "stdout",
     "output_type": "stream",
     "text": [
      "{1, 2, 3, 'b', 'india', 3.2, 4.5, 'a', 'c'}\n",
      "{1, 2, 3, 'b', 3.2, 4.5, 'a', 'c'}\n",
      "{1, 2, 3, 'b', 3.2, 4.5, 'sai_krishna', 'a', 'c'}\n"
     ]
    }
   ],
   "source": [
    "ls={1,2,3,'a','b','c','india',3.2,4.5}\n",
    "print(ls)\n",
    "ls.remove('india')\n",
    "print(ls)\n",
    "ls.add('sai_krishna')\n",
    "print(ls)"
   ]
  },
  {
   "cell_type": "code",
   "execution_count": 2,
   "id": "c74717df",
   "metadata": {},
   "outputs": [
    {
     "name": "stdout",
     "output_type": "stream",
     "text": [
      "value of x is 10\n",
      "yes my answer is right\n"
     ]
    }
   ],
   "source": [
    "# if \n",
    "\n",
    "x = 10\n",
    "if  x ==  10:\n",
    "    print(\"value of x is 10\")\n",
    "    print(\"yes my answer is right\")\n",
    "else:\n",
    "    print(\"value of x is not 10\")"
   ]
  },
  {
   "cell_type": "code",
   "execution_count": 6,
   "id": "64eec254",
   "metadata": {},
   "outputs": [
    {
     "name": "stdout",
     "output_type": "stream",
     "text": [
      "number is even\n"
     ]
    }
   ],
   "source": [
    "## find a number if its even or odd\n",
    "x=34\n",
    "if x%2 == 0:\n",
    "    print(\"number is even\")\n",
    "else:\n",
    "    print(\"number is odd\")"
   ]
  },
  {
   "cell_type": "code",
   "execution_count": null,
   "id": "d4c20d3d",
   "metadata": {},
   "outputs": [],
   "source": []
  }
 ],
 "metadata": {
  "kernelspec": {
   "display_name": "Python 3 (ipykernel)",
   "language": "python",
   "name": "python3"
  },
  "language_info": {
   "codemirror_mode": {
    "name": "ipython",
    "version": 3
   },
   "file_extension": ".py",
   "mimetype": "text/x-python",
   "name": "python",
   "nbconvert_exporter": "python",
   "pygments_lexer": "ipython3",
   "version": "3.9.12"
  }
 },
 "nbformat": 4,
 "nbformat_minor": 5
}
