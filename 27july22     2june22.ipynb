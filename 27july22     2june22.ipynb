{
 "cells": [
  {
   "cell_type": "code",
   "execution_count": 1,
   "id": "9aa3265f",
   "metadata": {},
   "outputs": [
    {
     "name": "stdout",
     "output_type": "stream",
     "text": [
      "4\n",
      "5\n",
      "5\n",
      "6\n"
     ]
    }
   ],
   "source": [
    "a=4\n",
    "b=5\n",
    "print(a)\n",
    "print(b)\n",
    "a=6\n",
    "print(b)\n",
    "print(a)"
   ]
  },
  {
   "cell_type": "code",
   "execution_count": 2,
   "id": "57725d11",
   "metadata": {},
   "outputs": [
    {
     "name": "stdout",
     "output_type": "stream",
     "text": [
      "4\n",
      "5\n",
      "-----------\n",
      "6\n",
      "5\n"
     ]
    }
   ],
   "source": [
    "a=4\n",
    "b=5\n",
    "print(a)\n",
    "print(b)\n",
    "print(\"-----------\")\n",
    "a=6\n",
    "print(a)\n",
    "print(b)"
   ]
  },
  {
   "cell_type": "code",
   "execution_count": 4,
   "id": "69f86fe1",
   "metadata": {},
   "outputs": [
    {
     "name": "stdout",
     "output_type": "stream",
     "text": [
      "[1, 2, 3]\n",
      "[1, 2, 3]\n",
      "----------\n",
      "[1, 2, 3, 4]\n",
      "[1, 2, 3, 4]\n"
     ]
    }
   ],
   "source": [
    "x=1\n",
    "x=[1,2,3]\n",
    "y=x\n",
    "print(x)\n",
    "print(y)\n",
    "print('----------')\n",
    "x.append(4)\n",
    "print(x)\n",
    "print(y)"
   ]
  },
  {
   "cell_type": "code",
   "execution_count": 6,
   "id": "325e4e78",
   "metadata": {},
   "outputs": [
    {
     "name": "stdout",
     "output_type": "stream",
     "text": [
      "[1, 2, 3]\n",
      "[1, 2, 3]\n",
      "_____\n",
      "[1, 2, 3, 4]\n",
      "[1, 2, 3, 4]\n",
      "-------\n",
      "[1, 2, 3, 4, 5]\n",
      "[1, 2, 3, 4, 5]\n",
      "[1, 2, 3, 4]\n"
     ]
    }
   ],
   "source": [
    "x=1\n",
    "x=[1,2,3]\n",
    "y=x\n",
    "print(x)\n",
    "print(y)\n",
    "print('_____')\n",
    "x.append(4)\n",
    "print(x)\n",
    "print(y)\n",
    "print('-------')\n",
    "z=x.copy()\n",
    "x.append(5)\n",
    "print(x)\n",
    "print(y)\n",
    "print(z)"
   ]
  },
  {
   "cell_type": "code",
   "execution_count": 7,
   "id": "4fd3cd04",
   "metadata": {},
   "outputs": [
    {
     "name": "stdout",
     "output_type": "stream",
     "text": [
      "20\n",
      "40\n",
      "20\n"
     ]
    }
   ],
   "source": [
    "x=20\n",
    "print(x)\n",
    "x+=20\n",
    "print(x)\n",
    "x-=20\n",
    "print(x)"
   ]
  },
  {
   "cell_type": "code",
   "execution_count": 7,
   "id": "c6a6448c",
   "metadata": {},
   "outputs": [
    {
     "name": "stdout",
     "output_type": "stream",
     "text": [
      "2022-07-27\n"
     ]
    }
   ],
   "source": [
    "from datetime import date\n",
    "date = date.today()\n",
    "print(date)"
   ]
  },
  {
   "cell_type": "code",
   "execution_count": 13,
   "id": "4aae55c0",
   "metadata": {},
   "outputs": [
    {
     "name": "stdout",
     "output_type": "stream",
     "text": [
      "2022-07-28\n",
      "28072217:07s\n"
     ]
    }
   ],
   "source": [
    "from datetime import date \n",
    "from datetime import datetime\n",
    "date=date.today()\n",
    "print(date)\n",
    "dt=datetime.now()\n",
    "#print(dt)\n",
    "print(dt.strftime(\"%d%m%y%H:%ms\"))"
   ]
  },
  {
   "cell_type": "code",
   "execution_count": 6,
   "id": "15992f89",
   "metadata": {},
   "outputs": [
    {
     "ename": "IndentationError",
     "evalue": "unexpected indent (1109129762.py, line 9)",
     "output_type": "error",
     "traceback": [
      "\u001b[1;36m  Input \u001b[1;32mIn [6]\u001b[1;36m\u001b[0m\n\u001b[1;33m    p.sort()\u001b[0m\n\u001b[1;37m    ^\u001b[0m\n\u001b[1;31mIndentationError\u001b[0m\u001b[1;31m:\u001b[0m unexpected indent\n"
     ]
    }
   ],
   "source": [
    "[10,2,5,65,2,5,34,43,23,32,89,78]\n",
    "p = []\n",
    "q = []\n",
    "for i in list(x):\n",
    "    if(i<50):\n",
    "        p.append(i) \n",
    "else:\n",
    "     q.append(i)\n",
    "        p.sort()\n",
    "        q.sort()\n",
    "        \n",
    "        print(p)\n",
    "        print(q)"
   ]
  },
  {
   "cell_type": "code",
   "execution_count": 5,
   "id": "ef1a444c",
   "metadata": {},
   "outputs": [
    {
     "name": "stdout",
     "output_type": "stream",
     "text": [
      "1 1\n",
      "1 2\n",
      "1 3\n",
      "1 4\n",
      "1 5\n",
      "1 6\n",
      "1 7\n",
      "2 1\n",
      "2 2\n",
      "2 3\n",
      "2 4\n",
      "2 5\n",
      "2 6\n",
      "2 7\n",
      "3 1\n",
      "3 2\n",
      "3 3\n",
      "3 4\n",
      "3 5\n",
      "3 6\n",
      "3 7\n",
      "4 1\n",
      "4 2\n",
      "4 3\n",
      "4 4\n",
      "4 5\n",
      "4 6\n",
      "4 7\n",
      "5 1\n",
      "5 2\n",
      "5 3\n",
      "5 4\n",
      "5 5\n",
      "5 6\n",
      "5 7\n",
      "6 1\n",
      "6 2\n",
      "6 3\n",
      "6 4\n",
      "6 5\n",
      "6 6\n",
      "6 7\n",
      "7 1\n",
      "7 2\n",
      "7 3\n",
      "7 4\n",
      "7 5\n",
      "7 6\n",
      "7 7\n"
     ]
    }
   ],
   "source": [
    "A=[1,2,3,4,5,6,7]\n",
    "B=[12,23,34,45,56]\n",
    "for i in A:\n",
    "    for j in A:\n",
    "         print(i,j)"
   ]
  },
  {
   "cell_type": "code",
   "execution_count": 9,
   "id": "8edd8dd3",
   "metadata": {},
   "outputs": [
    {
     "name": "stdout",
     "output_type": "stream",
     "text": [
      "{1, 2, 3, 4, 5, 6}\n",
      "{4, 5, 6}\n",
      "[1, 2, 3]\n"
     ]
    }
   ],
   "source": [
    "a={1,2,3,4,5,6}\n",
    "print(a)\n",
    "b=[1,2,3]\n",
    "a.difference_update(b)\n",
    "print(a)\n",
    "print(b)"
   ]
  },
  {
   "cell_type": "code",
   "execution_count": 10,
   "id": "e8e94663",
   "metadata": {},
   "outputs": [
    {
     "name": "stdout",
     "output_type": "stream",
     "text": [
      "{1, 2, 4, 5}\n"
     ]
    }
   ],
   "source": [
    "a={1,2,3,4,5}\n",
    "a.remove(3)\n",
    "print(a)"
   ]
  },
  {
   "cell_type": "code",
   "execution_count": null,
   "id": "68016f17",
   "metadata": {},
   "outputs": [],
   "source": []
  }
 ],
 "metadata": {
  "kernelspec": {
   "display_name": "Python 3 (ipykernel)",
   "language": "python",
   "name": "python3"
  },
  "language_info": {
   "codemirror_mode": {
    "name": "ipython",
    "version": 3
   },
   "file_extension": ".py",
   "mimetype": "text/x-python",
   "name": "python",
   "nbconvert_exporter": "python",
   "pygments_lexer": "ipython3",
   "version": "3.9.12"
  }
 },
 "nbformat": 4,
 "nbformat_minor": 5
}
